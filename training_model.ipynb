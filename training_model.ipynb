{
  "cells": [
    {
      "attachments": {},
      "cell_type": "markdown",
      "metadata": {},
      "source": [
        "# HTA: Face Mask Detection Project"
      ]
    },
    {
      "cell_type": "markdown",
      "metadata": {
        "id": "nHCFhauk7mRZ"
      },
      "source": [
        "# Data Preprocessing"
      ]
    },
    {
      "cell_type": "code",
      "execution_count": 18,
      "metadata": {
        "colab": {
          "base_uri": "https://localhost:8080/"
        },
        "id": "IaVtgXSatTpu",
        "outputId": "879ecf75-15f8-46ba-abe7-3d4424247399"
      },
      "outputs": [
        {
          "name": "stdout",
          "output_type": "stream",
          "text": [
            "{'no mask': 0, 'with mask': 1}\n",
            "['no mask', 'with mask']\n",
            "[0, 1]\n"
          ]
        }
      ],
      "source": [
        "import cv2,os\n",
        "\n",
        "dataset_path = 'F:\\My_Disk\\lectures\\MSc Amritra\\Sem 3\\Deeplearning\\HTA-Project\\dataset'\n",
        "categories = os.listdir(dataset_path)\n",
        "labels = [i for i in range(len(categories))]\n",
        "\n",
        "label_dict = dict(zip(categories,labels)) #empty dictionary\n",
        "\n",
        "print(label_dict)\n",
        "print(categories)\n",
        "print(labels)\n"
      ]
    },
    {
      "cell_type": "code",
      "execution_count": 19,
      "metadata": {
        "id": "9rwCOl9Ev5hj"
      },
      "outputs": [],
      "source": [
        "img_size = 100\n",
        "data = []\n",
        "target = []\n",
        "\n",
        "\n",
        "for category in categories:\n",
        "    folder_path = os.path.join(dataset_path,category)\n",
        "    img_names = os.listdir(folder_path)\n",
        "        \n",
        "    for img_name in img_names:\n",
        "        img_path = os.path.join(folder_path,img_name)\n",
        "        img = cv2.imread(img_path)\n",
        "        \n",
        "\n",
        "        try:\n",
        "            if(img is not None):\n",
        "                gray = cv2.cvtColor(img,cv2.COLOR_BGR2GRAY)           \n",
        "                #Coverting the image into gray scale\n",
        "                resized=cv2.resize(gray,(img_size,img_size))\n",
        "                #resizing the gray scale into 50x50, since we need a fixed common size for all the images in the dataset\n",
        "                data.append(resized)\n",
        "                target.append(label_dict[category])\n",
        "                #appending the image and the label(categorized) into the list (dataset)\n",
        "\n",
        "        except Exception as e:\n",
        "            print('Exception:',e)\n",
        "            #if any exception rasied, the exception will be printed here. And pass to the next image\n"
      ]
    },
    {
      "cell_type": "code",
      "execution_count": 20,
      "metadata": {
        "id": "6Pj0pzwc4ZgI"
      },
      "outputs": [],
      "source": [
        "import numpy as np\n",
        "from numpy import save\n",
        "data = np.array(data)/255.0\n",
        "data = np.reshape(data,(data.shape[0],img_size,img_size,1))\n",
        "target = np.array(target)\n",
        "\n",
        "from keras.utils import np_utils\n",
        "\n",
        "new_target = np_utils.to_categorical(target)"
      ]
    },
    {
      "cell_type": "code",
      "execution_count": 21,
      "metadata": {
        "id": "kJWDl_Ju4dqv"
      },
      "outputs": [],
      "source": [
        "save('data.npy',data)\n",
        "save('target.npy',new_target)"
      ]
    },
    {
      "cell_type": "code",
      "execution_count": 22,
      "metadata": {
        "id": "mRezqtppFXKy"
      },
      "outputs": [],
      "source": [
        "data=np.load('data.npy')\n",
        "target=np.load('target.npy')"
      ]
    },
    {
      "cell_type": "markdown",
      "metadata": {
        "id": "SbE31-FfNP0Q"
      },
      "source": [
        "# Model "
      ]
    },
    {
      "cell_type": "code",
      "execution_count": 23,
      "metadata": {
        "id": "9d8FZKB0FihL"
      },
      "outputs": [],
      "source": [
        "from keras.models import Sequential\n",
        "from keras.layers import Dense,Activation,Flatten,Dropout\n",
        "from keras.layers import Conv2D,MaxPooling2D\n",
        "from keras.callbacks import ModelCheckpoint\n",
        "\n",
        "model=Sequential()\n",
        "\n",
        "model.add(Conv2D(200,(3,3),input_shape=data.shape[1:]))\n",
        "model.add(Activation('relu'))\n",
        "model.add(MaxPooling2D(pool_size=(2,2)))\n",
        "#The first CNN layer followed by Relu and MaxPooling layers\n",
        "\n",
        "model.add(Conv2D(100,(3,3)))\n",
        "model.add(Activation('relu'))\n",
        "model.add(MaxPooling2D(pool_size=(2,2)))\n",
        "#The second convolution layer followed by Relu and MaxPooling layers\n",
        "\n",
        "model.add(Flatten())\n",
        "model.add(Dropout(0.5))\n",
        "#Flatten layer to stack the output convolutions from second convolution layer\n",
        "model.add(Dense(50,activation='relu'))\n",
        "#Dense layer of 64 neurons\n",
        "model.add(Dense(2,activation='softmax'))\n",
        "#The Final layer with two outputs for two categories\n",
        "\n",
        "model.compile(loss='categorical_crossentropy',optimizer='adam',metrics=['accuracy'])\n"
      ]
    },
    {
      "cell_type": "code",
      "execution_count": 24,
      "metadata": {
        "id": "hO5SSwgMMoTv"
      },
      "outputs": [],
      "source": [
        "from sklearn.model_selection import train_test_split\n",
        "\n",
        "train_data,test_data,train_target,test_target = train_test_split(data,target,test_size=0.25)\n"
      ]
    },
    {
      "cell_type": "code",
      "execution_count": 25,
      "metadata": {
        "colab": {
          "base_uri": "https://localhost:8080/"
        },
        "id": "-H57acpKM2Bs",
        "outputId": "b7dc4fe0-53dd-4fc5-d047-f22c5d1e1f1c"
      },
      "outputs": [
        {
          "name": "stdout",
          "output_type": "stream",
          "text": [
            "Epoch 1/20\n",
            "30/30 [==============================] - ETA: 0s - loss: 0.7552 - accuracy: 0.5312"
          ]
        },
        {
          "name": "stderr",
          "output_type": "stream",
          "text": [
            "WARNING:absl:Found untraced functions such as _jit_compiled_convolution_op, _jit_compiled_convolution_op, _update_step_xla while saving (showing 3 of 3). These functions will not be directly callable after loading.\n"
          ]
        },
        {
          "name": "stdout",
          "output_type": "stream",
          "text": [
            "INFO:tensorflow:Assets written to: model-001.model\\assets\n"
          ]
        },
        {
          "name": "stderr",
          "output_type": "stream",
          "text": [
            "INFO:tensorflow:Assets written to: model-001.model\\assets\n"
          ]
        },
        {
          "name": "stdout",
          "output_type": "stream",
          "text": [
            "30/30 [==============================] - 61s 2s/step - loss: 0.7552 - accuracy: 0.5312 - val_loss: 0.6769 - val_accuracy: 0.4979\n",
            "Epoch 2/20\n",
            "30/30 [==============================] - ETA: 0s - loss: 0.6161 - accuracy: 0.6508"
          ]
        },
        {
          "name": "stderr",
          "output_type": "stream",
          "text": [
            "WARNING:absl:Found untraced functions such as _jit_compiled_convolution_op, _jit_compiled_convolution_op, _update_step_xla while saving (showing 3 of 3). These functions will not be directly callable after loading.\n"
          ]
        },
        {
          "name": "stdout",
          "output_type": "stream",
          "text": [
            "INFO:tensorflow:Assets written to: model-002.model\\assets\n"
          ]
        },
        {
          "name": "stderr",
          "output_type": "stream",
          "text": [
            "INFO:tensorflow:Assets written to: model-002.model\\assets\n"
          ]
        },
        {
          "name": "stdout",
          "output_type": "stream",
          "text": [
            "30/30 [==============================] - 72s 2s/step - loss: 0.6161 - accuracy: 0.6508 - val_loss: 0.4657 - val_accuracy: 0.7890\n",
            "Epoch 3/20\n",
            "30/30 [==============================] - ETA: 0s - loss: 0.4406 - accuracy: 0.7831"
          ]
        },
        {
          "name": "stderr",
          "output_type": "stream",
          "text": [
            "WARNING:absl:Found untraced functions such as _jit_compiled_convolution_op, _jit_compiled_convolution_op, _update_step_xla while saving (showing 3 of 3). These functions will not be directly callable after loading.\n"
          ]
        },
        {
          "name": "stdout",
          "output_type": "stream",
          "text": [
            "INFO:tensorflow:Assets written to: model-003.model\\assets\n"
          ]
        },
        {
          "name": "stderr",
          "output_type": "stream",
          "text": [
            "INFO:tensorflow:Assets written to: model-003.model\\assets\n"
          ]
        },
        {
          "name": "stdout",
          "output_type": "stream",
          "text": [
            "30/30 [==============================] - 85s 3s/step - loss: 0.4406 - accuracy: 0.7831 - val_loss: 0.3131 - val_accuracy: 0.8945\n",
            "Epoch 4/20\n",
            "30/30 [==============================] - ETA: 0s - loss: 0.3226 - accuracy: 0.8593"
          ]
        },
        {
          "name": "stderr",
          "output_type": "stream",
          "text": [
            "WARNING:absl:Found untraced functions such as _jit_compiled_convolution_op, _jit_compiled_convolution_op, _update_step_xla while saving (showing 3 of 3). These functions will not be directly callable after loading.\n"
          ]
        },
        {
          "name": "stdout",
          "output_type": "stream",
          "text": [
            "INFO:tensorflow:Assets written to: model-004.model\\assets\n"
          ]
        },
        {
          "name": "stderr",
          "output_type": "stream",
          "text": [
            "INFO:tensorflow:Assets written to: model-004.model\\assets\n"
          ]
        },
        {
          "name": "stdout",
          "output_type": "stream",
          "text": [
            "30/30 [==============================] - 86s 3s/step - loss: 0.3226 - accuracy: 0.8593 - val_loss: 0.2840 - val_accuracy: 0.8903\n",
            "Epoch 5/20\n",
            "30/30 [==============================] - ETA: 0s - loss: 0.2658 - accuracy: 0.8974"
          ]
        },
        {
          "name": "stderr",
          "output_type": "stream",
          "text": [
            "WARNING:absl:Found untraced functions such as _jit_compiled_convolution_op, _jit_compiled_convolution_op, _update_step_xla while saving (showing 3 of 3). These functions will not be directly callable after loading.\n"
          ]
        },
        {
          "name": "stdout",
          "output_type": "stream",
          "text": [
            "INFO:tensorflow:Assets written to: model-005.model\\assets\n"
          ]
        },
        {
          "name": "stderr",
          "output_type": "stream",
          "text": [
            "INFO:tensorflow:Assets written to: model-005.model\\assets\n"
          ]
        },
        {
          "name": "stdout",
          "output_type": "stream",
          "text": [
            "30/30 [==============================] - 78s 3s/step - loss: 0.2658 - accuracy: 0.8974 - val_loss: 0.2104 - val_accuracy: 0.9325\n",
            "Epoch 6/20\n",
            "30/30 [==============================] - ETA: 0s - loss: 0.2153 - accuracy: 0.9058"
          ]
        },
        {
          "name": "stderr",
          "output_type": "stream",
          "text": [
            "WARNING:absl:Found untraced functions such as _jit_compiled_convolution_op, _jit_compiled_convolution_op, _update_step_xla while saving (showing 3 of 3). These functions will not be directly callable after loading.\n"
          ]
        },
        {
          "name": "stdout",
          "output_type": "stream",
          "text": [
            "INFO:tensorflow:Assets written to: model-006.model\\assets\n"
          ]
        },
        {
          "name": "stderr",
          "output_type": "stream",
          "text": [
            "INFO:tensorflow:Assets written to: model-006.model\\assets\n"
          ]
        },
        {
          "name": "stdout",
          "output_type": "stream",
          "text": [
            "30/30 [==============================] - 63s 2s/step - loss: 0.2153 - accuracy: 0.9058 - val_loss: 0.1862 - val_accuracy: 0.9367\n",
            "Epoch 7/20\n",
            "30/30 [==============================] - ETA: 0s - loss: 0.1757 - accuracy: 0.9238"
          ]
        },
        {
          "name": "stderr",
          "output_type": "stream",
          "text": [
            "WARNING:absl:Found untraced functions such as _jit_compiled_convolution_op, _jit_compiled_convolution_op, _update_step_xla while saving (showing 3 of 3). These functions will not be directly callable after loading.\n"
          ]
        },
        {
          "name": "stdout",
          "output_type": "stream",
          "text": [
            "INFO:tensorflow:Assets written to: model-007.model\\assets\n"
          ]
        },
        {
          "name": "stderr",
          "output_type": "stream",
          "text": [
            "INFO:tensorflow:Assets written to: model-007.model\\assets\n"
          ]
        },
        {
          "name": "stdout",
          "output_type": "stream",
          "text": [
            "30/30 [==============================] - 58s 2s/step - loss: 0.1757 - accuracy: 0.9238 - val_loss: 0.1769 - val_accuracy: 0.9451\n",
            "Epoch 8/20\n",
            "30/30 [==============================] - ETA: 0s - loss: 0.1488 - accuracy: 0.9323"
          ]
        },
        {
          "name": "stderr",
          "output_type": "stream",
          "text": [
            "WARNING:absl:Found untraced functions such as _jit_compiled_convolution_op, _jit_compiled_convolution_op, _update_step_xla while saving (showing 3 of 3). These functions will not be directly callable after loading.\n"
          ]
        },
        {
          "name": "stdout",
          "output_type": "stream",
          "text": [
            "INFO:tensorflow:Assets written to: model-008.model\\assets\n"
          ]
        },
        {
          "name": "stderr",
          "output_type": "stream",
          "text": [
            "INFO:tensorflow:Assets written to: model-008.model\\assets\n"
          ]
        },
        {
          "name": "stdout",
          "output_type": "stream",
          "text": [
            "30/30 [==============================] - 57s 2s/step - loss: 0.1488 - accuracy: 0.9323 - val_loss: 0.1542 - val_accuracy: 0.9325\n",
            "Epoch 9/20\n",
            "30/30 [==============================] - ETA: 0s - loss: 0.1228 - accuracy: 0.9503"
          ]
        },
        {
          "name": "stderr",
          "output_type": "stream",
          "text": [
            "WARNING:absl:Found untraced functions such as _jit_compiled_convolution_op, _jit_compiled_convolution_op, _update_step_xla while saving (showing 3 of 3). These functions will not be directly callable after loading.\n"
          ]
        },
        {
          "name": "stdout",
          "output_type": "stream",
          "text": [
            "INFO:tensorflow:Assets written to: model-009.model\\assets\n"
          ]
        },
        {
          "name": "stderr",
          "output_type": "stream",
          "text": [
            "INFO:tensorflow:Assets written to: model-009.model\\assets\n"
          ]
        },
        {
          "name": "stdout",
          "output_type": "stream",
          "text": [
            "30/30 [==============================] - 64s 2s/step - loss: 0.1228 - accuracy: 0.9503 - val_loss: 0.1353 - val_accuracy: 0.9536\n",
            "Epoch 10/20\n",
            "30/30 [==============================] - ETA: 0s - loss: 0.1082 - accuracy: 0.9577"
          ]
        },
        {
          "name": "stderr",
          "output_type": "stream",
          "text": [
            "WARNING:absl:Found untraced functions such as _jit_compiled_convolution_op, _jit_compiled_convolution_op, _update_step_xla while saving (showing 3 of 3). These functions will not be directly callable after loading.\n"
          ]
        },
        {
          "name": "stdout",
          "output_type": "stream",
          "text": [
            "INFO:tensorflow:Assets written to: model-010.model\\assets\n"
          ]
        },
        {
          "name": "stderr",
          "output_type": "stream",
          "text": [
            "INFO:tensorflow:Assets written to: model-010.model\\assets\n"
          ]
        },
        {
          "name": "stdout",
          "output_type": "stream",
          "text": [
            "30/30 [==============================] - 78s 3s/step - loss: 0.1082 - accuracy: 0.9577 - val_loss: 0.1304 - val_accuracy: 0.9409\n",
            "Epoch 11/20\n",
            "30/30 [==============================] - ETA: 0s - loss: 0.0787 - accuracy: 0.9735"
          ]
        },
        {
          "name": "stderr",
          "output_type": "stream",
          "text": [
            "WARNING:absl:Found untraced functions such as _jit_compiled_convolution_op, _jit_compiled_convolution_op, _update_step_xla while saving (showing 3 of 3). These functions will not be directly callable after loading.\n"
          ]
        },
        {
          "name": "stdout",
          "output_type": "stream",
          "text": [
            "INFO:tensorflow:Assets written to: model-011.model\\assets\n"
          ]
        },
        {
          "name": "stderr",
          "output_type": "stream",
          "text": [
            "INFO:tensorflow:Assets written to: model-011.model\\assets\n"
          ]
        },
        {
          "name": "stdout",
          "output_type": "stream",
          "text": [
            "30/30 [==============================] - 79s 3s/step - loss: 0.0787 - accuracy: 0.9735 - val_loss: 0.1137 - val_accuracy: 0.9451\n",
            "Epoch 12/20\n",
            "30/30 [==============================] - 75s 2s/step - loss: 0.0508 - accuracy: 0.9852 - val_loss: 0.1408 - val_accuracy: 0.9451\n",
            "Epoch 13/20\n",
            "30/30 [==============================] - 75s 2s/step - loss: 0.0685 - accuracy: 0.9704 - val_loss: 0.1306 - val_accuracy: 0.9451\n",
            "Epoch 14/20\n",
            "30/30 [==============================] - 73s 2s/step - loss: 0.0439 - accuracy: 0.9905 - val_loss: 0.1306 - val_accuracy: 0.9536\n",
            "Epoch 15/20\n",
            "30/30 [==============================] - 74s 2s/step - loss: 0.0458 - accuracy: 0.9810 - val_loss: 0.1301 - val_accuracy: 0.9536\n",
            "Epoch 16/20\n",
            "30/30 [==============================] - 73s 2s/step - loss: 0.0376 - accuracy: 0.9884 - val_loss: 0.1304 - val_accuracy: 0.9409\n",
            "Epoch 17/20\n",
            "30/30 [==============================] - 73s 2s/step - loss: 0.0244 - accuracy: 0.9915 - val_loss: 0.1423 - val_accuracy: 0.9578\n",
            "Epoch 18/20\n",
            "30/30 [==============================] - 73s 2s/step - loss: 0.0673 - accuracy: 0.9725 - val_loss: 0.1626 - val_accuracy: 0.9578\n",
            "Epoch 19/20\n",
            "30/30 [==============================] - 74s 2s/step - loss: 0.0422 - accuracy: 0.9810 - val_loss: 0.1951 - val_accuracy: 0.9494\n",
            "Epoch 20/20\n",
            "30/30 [==============================] - 74s 2s/step - loss: 0.0854 - accuracy: 0.9693 - val_loss: 0.1629 - val_accuracy: 0.9451\n"
          ]
        }
      ],
      "source": [
        "checkpoint = ModelCheckpoint('model-{epoch:03d}.model',monitor='val_loss',verbose=0,save_best_only=True,mode='auto')\n",
        "trained_model = model.fit(train_data,train_target,epochs=20,callbacks=[checkpoint],validation_split=0.2)"
      ]
    },
    {
      "cell_type": "code",
      "execution_count": 26,
      "metadata": {
        "colab": {
          "base_uri": "https://localhost:8080/",
          "height": 279
        },
        "id": "ZtIleL-ENcZO",
        "outputId": "e8856a05-02e8-4bff-a42c-9b001b9e3ab5"
      },
      "outputs": [
        {
          "data": {
            "image/png": "[encoded data removed]",
            "text/plain": [
              "<Figure size 640x480 with 1 Axes>"
            ]
          },
          "metadata": {},
          "output_type": "display_data"
        }
      ],
      "source": [
        "from matplotlib import pyplot as plt\n",
        "\n",
        "plt.plot(trained_model.history['loss'],'r',label='training loss')\n",
        "plt.plot(trained_model.history['val_loss'],label='validation loss')\n",
        "plt.xlabel('# epochs')\n",
        "plt.ylabel('loss')\n",
        "plt.legend()\n",
        "plt.show()\n"
      ]
    },
    {
      "cell_type": "code",
      "execution_count": 27,
      "metadata": {
        "colab": {
          "base_uri": "https://localhost:8080/",
          "height": 279
        },
        "id": "i1GdQweaNgfl",
        "outputId": "c23fa265-a274-4faa-e7a5-f5ec0dfe8617"
      },
      "outputs": [
        {
          "data": {
            "image/png": "[encoded data removed]",
            "text/plain": [
              "<Figure size 640x480 with 1 Axes>"
            ]
          },
          "metadata": {},
          "output_type": "display_data"
        }
      ],
      "source": [
        "plt.plot(trained_model.history['accuracy'],'r',label='training accuracy')\n",
        "plt.plot(trained_model.history['val_accuracy'],label='validation accuracy')\n",
        "plt.xlabel('# epochs')\n",
        "plt.ylabel('loss')\n",
        "plt.legend()\n",
        "plt.show()"
      ]
    },
    {
      "cell_type": "code",
      "execution_count": 28,
      "metadata": {
        "colab": {
          "base_uri": "https://localhost:8080/"
        },
        "id": "qEpGMnNhNnM8",
        "outputId": "5d7bce99-8389-4465-d5da-cb9300fd29d8"
      },
      "outputs": [
        {
          "name": "stdout",
          "output_type": "stream",
          "text": [
            "13/13 [==============================] - 8s 605ms/step - loss: 0.2870 - accuracy: 0.9190\n",
            "[0.28697076439857483, 0.9189873337745667]\n"
          ]
        }
      ],
      "source": [
        "print(model.evaluate(test_data,test_target))"
      ]
    },
    {
      "cell_type": "code",
      "execution_count": 29,
      "metadata": {
        "id": "5U_VVHMnNpW3"
      },
      "outputs": [],
      "source": [
        "model.save(\"mask_detector.model\", save_format=\"h5\")"
      ]
    },
    {
      "cell_type": "code",
      "execution_count": 30,
      "metadata": {},
      "outputs": [],
      "source": [
        "# from sklearn.metrics import classification_report, confusion_matrix\n",
        "# cnf_matrix = confusion_matrix(train_target, test_target, labels=[0,1])\n",
        "# np.set_printoptions(precision=2)\n",
        "\n",
        "# print (classification_report(train_target, test_target))\n",
        "\n",
        "# import seaborn as sns\n",
        "\n",
        "# ax = sns.heatmap(cnf_matrix, annot=True, cmap='Blues')\n",
        "\n",
        "# ax.set_title('Seaborn Confusion Matrix with labels\\n\\n')\n",
        "# ax.set_xlabel('\\nPredicted Values')\n",
        "# ax.set_ylabel('\\nActual Values ')\n",
        "\n",
        "# ## Ticket labels - List must be in alphabetical order\n",
        "# ax.xaxis.set_ticklabels(['1: Mask', '0: No Mask'])\n",
        "# ax.yaxis.set_ticklabels(['1: Mask','0: No Mask'])\n",
        "\n",
        "# ## Display the visualization of the Confusion Matrix.\n",
        "\n",
        "# plt.show()"
      ]
    }
  ],
  "metadata": {
    "accelerator": "GPU",
    "colab": {
      "provenance": []
    },
    "gpuClass": "standard",
    "kernelspec": {
      "display_name": "Python 3.9.2 ('hta_project': venv)",
      "language": "python",
      "name": "python3"
    },
    "language_info": {
      "codemirror_mode": {
        "name": "ipython",
        "version": 3
      },
      "file_extension": ".py",
      "mimetype": "text/x-python",
      "name": "python",
      "nbconvert_exporter": "python",
      "pygments_lexer": "ipython3",
      "version": "3.9.2"
    },
    "vscode": {
      "interpreter": {
        "hash": "99df2f63beb8f11f099f65d50066702a1a3973158c2ed0e35e5c60cc205e54c3"
      }
    }
  },
  "nbformat": 4,
  "nbformat_minor": 0
}
